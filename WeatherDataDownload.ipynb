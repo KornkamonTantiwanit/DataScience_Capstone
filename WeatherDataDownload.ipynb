{
 "cells": [
  {
   "cell_type": "code",
   "execution_count": 1,
   "id": "ee88e1a2-9699-40a2-95d7-d26455aceeda",
   "metadata": {},
   "outputs": [],
   "source": [
    "from meteostat import Stations, Hourly, Monthly\n",
    "from datetime import datetime\n",
    "import pandas as pd"
   ]
  },
  {
   "cell_type": "code",
   "execution_count": 8,
   "id": "80d6c770-8b5b-4fd0-8b0b-c833397b969f",
   "metadata": {},
   "outputs": [],
   "source": [
    "start = datetime(2018, 7, 1)\n",
    "end = datetime(2019, 12, 31)\n",
    "\n",
    "data = Hourly('48455', start, end)\n",
    "data = data.fetch()\n",
    "\n",
    "weather_data = data[['temp', 'dwpt', 'rhum']].resample('H').interpolate('linear').round(1)"
   ]
  },
  {
   "cell_type": "code",
   "execution_count": 10,
   "id": "cf52afd9-bad0-4339-8607-6e1755cd18ba",
   "metadata": {},
   "outputs": [],
   "source": [
    "weather_data.to_csv('weather_hourly.csv')"
   ]
  }
 ],
 "metadata": {
  "kernelspec": {
   "display_name": "Python 3 (ipykernel)",
   "language": "python",
   "name": "python3"
  },
  "language_info": {
   "codemirror_mode": {
    "name": "ipython",
    "version": 3
   },
   "file_extension": ".py",
   "mimetype": "text/x-python",
   "name": "python",
   "nbconvert_exporter": "python",
   "pygments_lexer": "ipython3",
   "version": "3.8.19"
  }
 },
 "nbformat": 4,
 "nbformat_minor": 5
}
